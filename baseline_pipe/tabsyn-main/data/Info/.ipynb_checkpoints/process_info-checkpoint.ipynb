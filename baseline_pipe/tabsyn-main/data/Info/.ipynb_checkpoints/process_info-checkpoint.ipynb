{
 "cells": [
  {
   "cell_type": "code",
   "execution_count": 1,
   "id": "a556edd3-a51f-412e-a3f8-4dde15d2450e",
   "metadata": {},
   "outputs": [],
   "source": [
    "import json"
   ]
  },
  {
   "cell_type": "code",
   "execution_count": 2,
   "id": "d787d308-ee6d-48ac-8710-8aaba8077a65",
   "metadata": {},
   "outputs": [],
   "source": [
    "with open(\"magic.json\", \"r\") as f:\n",
    "    info = json.load(f)"
   ]
  },
  {
   "cell_type": "code",
   "execution_count": 4,
   "id": "69f08cdc-4eb6-40e1-9982-4d865c891557",
   "metadata": {},
   "outputs": [],
   "source": [
    "x_cols = ['major axis of ellipse (mm)', 'minor axis of ellipse (mm)',\n",
    "       '10-log of sum of content of all pixels (#phot)',\n",
    "       'ratio of sum of two highest pixels over fSize',\n",
    "       'ratio of highest pixel over fSize',\n",
    "       'distance from highest pixel to center, projected onto major axis',\n",
    "       '3rd root of third moment along major axis (mm)',\n",
    "       '3rd root of third moment along minor axis (mm)',\n",
    "       'angle of major axis with vector to origin (deg)',\n",
    "       'distance from origin to center of ellipse (mm)',]\n",
    "y_col = 'gamma (signal), hadron (background)'\n",
    "cate_var = []\n",
    "bool_var = ['gamma (signal), hadron (background)']\n",
    "cols = x_cols + [y_col]"
   ]
  },
  {
   "cell_type": "code",
   "execution_count": 3,
   "id": "bffa31ba-a72b-496f-8610-9d0a4f06a9af",
   "metadata": {},
   "outputs": [
    {
     "data": {
      "text/plain": [
       "{'name': 'magic',\n",
       " 'task_type': 'binclass',\n",
       " 'header': 'infer',\n",
       " 'column_names': ['Length',\n",
       "  'Width',\n",
       "  'Size',\n",
       "  'Conc',\n",
       "  'Conc1',\n",
       "  'Asym',\n",
       "  'M3Long',\n",
       "  'M3Trans',\n",
       "  'Alpha',\n",
       "  'Dist',\n",
       "  'class'],\n",
       " 'num_col_idx': [0, 1, 2, 3, 4, 5, 6, 7, 8, 9],\n",
       " 'cat_col_idx': [],\n",
       " 'target_col_idx': [10],\n",
       " 'file_type': 'csv',\n",
       " 'data_path': 'data/magic/magic04.data',\n",
       " 'test_path': None}"
      ]
     },
     "execution_count": 3,
     "metadata": {},
     "output_type": "execute_result"
    }
   ],
   "source": [
    "info"
   ]
  },
  {
   "cell_type": "code",
   "execution_count": 11,
   "id": "14a32030-12a1-43e5-abf8-6a0af9cd5d6b",
   "metadata": {},
   "outputs": [],
   "source": [
    "info25 = info.copy()\n",
    "info25['name'] = 'magic25'\n",
    "info25['column_names'] = cols\n",
    "info25['data_path'] = 'data/magic25/df25.csv'\n",
    "info25['test_path'] = 'data/magic25/df_test.csv'"
   ]
  },
  {
   "cell_type": "code",
   "execution_count": 9,
   "id": "edf1dddf-c106-49cc-ad83-1e24d0f2d49d",
   "metadata": {},
   "outputs": [],
   "source": [
    "with open(\"magic25.json\", \"w\") as f:\n",
    "    json.dump(info25, f)"
   ]
  },
  {
   "cell_type": "code",
   "execution_count": 12,
   "id": "d901add0-0c0d-4d5f-8f0f-d217b2f70bbf",
   "metadata": {},
   "outputs": [],
   "source": [
    "info50 = info25.copy()\n",
    "info50['name'] = 'magic50'\n",
    "info50['data_path'] = 'data/magic50/df50.csv'\n",
    "info50['test_path'] = 'data/magic50/df_test.csv'\n",
    "with open(\"magic50.json\", \"w\") as f:\n",
    "    json.dump(info50, f)"
   ]
  },
  {
   "cell_type": "code",
   "execution_count": 14,
   "id": "1784a1e3-1018-4f81-868c-9eba445e3385",
   "metadata": {},
   "outputs": [],
   "source": [
    "info100 = info25.copy()\n",
    "info100['name'] = 'magic100'\n",
    "info100['data_path'] = 'data/magic100/df100.csv'\n",
    "info100['test_path'] = 'data/magic100/df_test.csv'\n",
    "with open(\"magic100.json\", \"w\") as f:\n",
    "    json.dump(info100, f)"
   ]
  },
  {
   "cell_type": "code",
   "execution_count": 15,
   "id": "ef3ec80f-5f55-4e66-8418-72a4f94f266b",
   "metadata": {},
   "outputs": [],
   "source": [
    "info200 = info25.copy()\n",
    "info200['name'] = 'magic200'\n",
    "info200['data_path'] = 'data/magic200/df200.csv'\n",
    "info200['test_path'] = 'data/magic200/df_test.csv'\n",
    "with open(\"magic200.json\", \"w\") as f:\n",
    "    json.dump(info200, f)"
   ]
  },
  {
   "cell_type": "code",
   "execution_count": 16,
   "id": "2e3341bc-c56c-4c70-b95c-b820614bc1ec",
   "metadata": {},
   "outputs": [],
   "source": [
    "info400 = info25.copy()\n",
    "info400['name'] = 'magic400'\n",
    "info400['data_path'] = 'data/magic400/df400.csv'\n",
    "info400['test_path'] = 'data/magic400/df_test.csv'\n",
    "with open(\"magic400.json\", \"w\") as f:\n",
    "    json.dump(info400, f)"
   ]
  },
  {
   "cell_type": "code",
   "execution_count": null,
   "id": "9478af62-a644-469d-847f-83b29dd64613",
   "metadata": {},
   "outputs": [],
   "source": [
    "info800 = info25.copy()\n",
    "info800['name'] = 'magic800'\n",
    "info800['data_path'] = 'data/magic800/df800.csv'\n",
    "info800['test_path'] = 'data/magic800/df_test.csv'\n",
    "with open(\"magic800.json\", \"w\") as f:\n",
    "    json.dump(info800, f)"
   ]
  }
 ],
 "metadata": {
  "kernelspec": {
   "display_name": "Python 3.10",
   "language": "python",
   "name": "py3.10"
  },
  "language_info": {
   "codemirror_mode": {
    "name": "ipython",
    "version": 3
   },
   "file_extension": ".py",
   "mimetype": "text/x-python",
   "name": "python",
   "nbconvert_exporter": "python",
   "pygments_lexer": "ipython3",
   "version": "3.10.14"
  }
 },
 "nbformat": 4,
 "nbformat_minor": 5
}
