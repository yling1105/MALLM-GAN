{
 "cells": [
  {
   "cell_type": "code",
   "execution_count": 4,
   "id": "f3ecc557-1c73-4c71-8674-d5cccf20faf7",
   "metadata": {},
   "outputs": [],
   "source": [
    "import pandas as pd\n",
    "import json"
   ]
  },
  {
   "cell_type": "code",
   "execution_count": 2,
   "id": "7319f89c-ab7e-4969-839e-5d540ab05c19",
   "metadata": {},
   "outputs": [],
   "source": [
    "df = pd.read_csv(\"df25_test.csv\")"
   ]
  },
  {
   "cell_type": "code",
   "execution_count": 3,
   "id": "318d37b5-16c0-4951-90c1-56640362b2b0",
   "metadata": {},
   "outputs": [
    {
     "data": {
      "text/plain": [
       "Index(['age', 'workclass', 'education', 'education-num', 'marital-status',\n",
       "       'occupation', 'relationship', 'race', 'sex', 'capital-gain',\n",
       "       'capital-loss', 'hours-per-week', 'native-country', 'Income'],\n",
       "      dtype='object')"
      ]
     },
     "execution_count": 3,
     "metadata": {},
     "output_type": "execute_result"
    }
   ],
   "source": [
    "df.columns"
   ]
  },
  {
   "cell_type": "code",
   "execution_count": 7,
   "id": "5850653d-e0a0-4720-8ddb-1ef6754df22f",
   "metadata": {},
   "outputs": [],
   "source": [
    "with open(\"../Info/adult25.json\", \"r\") as f:\n",
    "    info = json.load(f)"
   ]
  },
  {
   "cell_type": "code",
   "execution_count": 8,
   "id": "4f54d31c-909c-42a0-8d8f-8c78d76b0048",
   "metadata": {},
   "outputs": [],
   "source": [
    "data_df = pd.read_csv(\"df25_test.csv\")"
   ]
  },
  {
   "cell_type": "code",
   "execution_count": 9,
   "id": "4d351be2-e89f-4457-8464-327f412f20cb",
   "metadata": {},
   "outputs": [],
   "source": [
    "num_data = data_df.shape[0]\n",
    "column_names = info['column_names'] if info['column_names'] else data_df.columns.tolist()"
   ]
  },
  {
   "cell_type": "code",
   "execution_count": 10,
   "id": "fc1aa385-af7f-492c-b1b1-e0190d7b7b19",
   "metadata": {},
   "outputs": [],
   "source": [
    "num_col_idx = info['num_col_idx']\n",
    "cat_col_idx = info['cat_col_idx']\n",
    "target_col_idx = info['target_col_idx']"
   ]
  },
  {
   "cell_type": "code",
   "execution_count": 15,
   "id": "3457d3f6-9b16-4889-be19-22044037b1e3",
   "metadata": {},
   "outputs": [],
   "source": [
    "def get_column_name_mapping(data_df, num_col_idx, cat_col_idx, target_col_idx, column_names = None):\n",
    "    \n",
    "    if not column_names:\n",
    "        column_names = np.array(data_df.columns.tolist())\n",
    "    \n",
    "\n",
    "    idx_mapping = {}\n",
    "\n",
    "    curr_num_idx = 0\n",
    "    curr_cat_idx = len(num_col_idx)\n",
    "    curr_target_idx = curr_cat_idx + len(cat_col_idx)\n",
    "\n",
    "    for idx in range(len(column_names)):\n",
    "\n",
    "        if idx in num_col_idx:\n",
    "            idx_mapping[int(idx)] = curr_num_idx\n",
    "            curr_num_idx += 1\n",
    "        elif idx in cat_col_idx:\n",
    "            idx_mapping[int(idx)] = curr_cat_idx\n",
    "            curr_cat_idx += 1\n",
    "        else:\n",
    "            idx_mapping[int(idx)] = curr_target_idx\n",
    "            curr_target_idx += 1\n",
    "\n",
    "\n",
    "    inverse_idx_mapping = {}\n",
    "    for k, v in idx_mapping.items():\n",
    "        inverse_idx_mapping[int(v)] = k\n",
    "        \n",
    "    idx_name_mapping = {}\n",
    "    \n",
    "    for i in range(len(column_names)):\n",
    "        idx_name_mapping[int(i)] = column_names[i]\n",
    "\n",
    "    return idx_mapping, inverse_idx_mapping, idx_name_mapping"
   ]
  },
  {
   "cell_type": "code",
   "execution_count": 17,
   "id": "efbfd97f-4502-45d2-b8aa-937d292f827e",
   "metadata": {},
   "outputs": [
    {
     "data": {
      "text/plain": [
       "['age', 'education-num', 'capital-gain', 'capital-loss', 'hours-per-week']"
      ]
     },
     "execution_count": 17,
     "metadata": {},
     "output_type": "execute_result"
    }
   ],
   "source": []
  },
  {
   "cell_type": "code",
   "execution_count": 16,
   "id": "a2b3cd81-177e-4b29-af2b-51692e1c52f6",
   "metadata": {},
   "outputs": [],
   "source": [
    "idx_mapping, inverse_idx_mapping, idx_name_mapping = get_column_name_mapping(data_df, num_col_idx, cat_col_idx, target_col_idx, column_names)\n",
    "num_columns = [column_names[i] for i in num_col_idx]\n",
    "cat_columns = [column_names[i] for i in cat_col_idx]\n",
    "target_columns = [column_names[i] for i in target_col_idx]"
   ]
  },
  {
   "cell_type": "code",
   "execution_count": 18,
   "id": "0ab0e441-4347-4bbb-8593-4250fe947722",
   "metadata": {},
   "outputs": [
    {
     "data": {
      "text/plain": [
       "['age', 'education-num', 'capital-gain', 'capital-loss', 'hours-per-week']"
      ]
     },
     "execution_count": 18,
     "metadata": {},
     "output_type": "execute_result"
    }
   ],
   "source": [
    "num_columns"
   ]
  },
  {
   "cell_type": "code",
   "execution_count": 19,
   "id": "4fc0f39b-28c3-4cb7-ac03-b34e78be4ef9",
   "metadata": {},
   "outputs": [
    {
     "data": {
      "text/plain": [
       "['workclass',\n",
       " 'education',\n",
       " 'marital-status',\n",
       " 'occupation',\n",
       " 'relationship',\n",
       " 'race',\n",
       " 'sex',\n",
       " 'native-country']"
      ]
     },
     "execution_count": 19,
     "metadata": {},
     "output_type": "execute_result"
    }
   ],
   "source": [
    "cat_columns"
   ]
  },
  {
   "cell_type": "code",
   "execution_count": 22,
   "id": "dca5c103-ca28-4bf4-ba4e-66438937ae39",
   "metadata": {},
   "outputs": [],
   "source": [
    "import numpy as np\n",
    "train_df = data_df\n",
    "X_num_test = train_df[num_columns].to_numpy().astype(np.float32)"
   ]
  },
  {
   "cell_type": "markdown",
   "id": "05803bb4-7d3c-444a-bd23-bed74543876d",
   "metadata": {},
   "source": [
    "# Columns check"
   ]
  },
  {
   "cell_type": "code",
   "execution_count": 25,
   "id": "6af2bf1d-b58e-4575-ba20-09e8f34ff79e",
   "metadata": {},
   "outputs": [],
   "source": [
    "import json"
   ]
  },
  {
   "cell_type": "code",
   "execution_count": 23,
   "id": "f81b6092-73c1-4b89-aa09-dac62feea2c1",
   "metadata": {},
   "outputs": [],
   "source": [
    "df = pd.read_csv(\"df25.csv\")"
   ]
  },
  {
   "cell_type": "code",
   "execution_count": 24,
   "id": "f3b4ae6b-0d2f-433d-999d-598b936db230",
   "metadata": {},
   "outputs": [
    {
     "data": {
      "text/html": [
       "<div>\n",
       "<style scoped>\n",
       "    .dataframe tbody tr th:only-of-type {\n",
       "        vertical-align: middle;\n",
       "    }\n",
       "\n",
       "    .dataframe tbody tr th {\n",
       "        vertical-align: top;\n",
       "    }\n",
       "\n",
       "    .dataframe thead th {\n",
       "        text-align: right;\n",
       "    }\n",
       "</style>\n",
       "<table border=\"1\" class=\"dataframe\">\n",
       "  <thead>\n",
       "    <tr style=\"text-align: right;\">\n",
       "      <th></th>\n",
       "      <th>age</th>\n",
       "      <th>workclass</th>\n",
       "      <th>education</th>\n",
       "      <th>education-num</th>\n",
       "      <th>marital-status</th>\n",
       "      <th>occupation</th>\n",
       "      <th>relationship</th>\n",
       "      <th>race</th>\n",
       "      <th>sex</th>\n",
       "      <th>capital-gain</th>\n",
       "      <th>capital-loss</th>\n",
       "      <th>hours-per-week</th>\n",
       "      <th>native-country</th>\n",
       "      <th>Income</th>\n",
       "    </tr>\n",
       "  </thead>\n",
       "  <tbody>\n",
       "    <tr>\n",
       "      <th>0</th>\n",
       "      <td>35.0</td>\n",
       "      <td>Private</td>\n",
       "      <td>Masters</td>\n",
       "      <td>14.0</td>\n",
       "      <td>Married-civ-spouse</td>\n",
       "      <td>Prof-specialty</td>\n",
       "      <td>Husband</td>\n",
       "      <td>White</td>\n",
       "      <td>Male</td>\n",
       "      <td>0.0</td>\n",
       "      <td>1887.0</td>\n",
       "      <td>40.0</td>\n",
       "      <td>United-States</td>\n",
       "      <td>&gt;50K</td>\n",
       "    </tr>\n",
       "    <tr>\n",
       "      <th>1</th>\n",
       "      <td>21.0</td>\n",
       "      <td>Private</td>\n",
       "      <td>Some-college</td>\n",
       "      <td>10.0</td>\n",
       "      <td>Never-married</td>\n",
       "      <td>Other-service</td>\n",
       "      <td>Not-in-family</td>\n",
       "      <td>White</td>\n",
       "      <td>Female</td>\n",
       "      <td>0.0</td>\n",
       "      <td>0.0</td>\n",
       "      <td>35.0</td>\n",
       "      <td>United-States</td>\n",
       "      <td>&lt;=50K</td>\n",
       "    </tr>\n",
       "    <tr>\n",
       "      <th>2</th>\n",
       "      <td>23.0</td>\n",
       "      <td>Private</td>\n",
       "      <td>Bachelors</td>\n",
       "      <td>13.0</td>\n",
       "      <td>Never-married</td>\n",
       "      <td>Prof-specialty</td>\n",
       "      <td>Not-in-family</td>\n",
       "      <td>White</td>\n",
       "      <td>Female</td>\n",
       "      <td>0.0</td>\n",
       "      <td>0.0</td>\n",
       "      <td>16.0</td>\n",
       "      <td>United-States</td>\n",
       "      <td>&lt;=50K</td>\n",
       "    </tr>\n",
       "    <tr>\n",
       "      <th>3</th>\n",
       "      <td>43.0</td>\n",
       "      <td>Private</td>\n",
       "      <td>Masters</td>\n",
       "      <td>14.0</td>\n",
       "      <td>Married-civ-spouse</td>\n",
       "      <td>Prof-specialty</td>\n",
       "      <td>Husband</td>\n",
       "      <td>White</td>\n",
       "      <td>Male</td>\n",
       "      <td>0.0</td>\n",
       "      <td>0.0</td>\n",
       "      <td>40.0</td>\n",
       "      <td>United-States</td>\n",
       "      <td>&gt;50K</td>\n",
       "    </tr>\n",
       "    <tr>\n",
       "      <th>4</th>\n",
       "      <td>31.0</td>\n",
       "      <td>Private</td>\n",
       "      <td>Bachelors</td>\n",
       "      <td>13.0</td>\n",
       "      <td>Married-civ-spouse</td>\n",
       "      <td>Sales</td>\n",
       "      <td>Husband</td>\n",
       "      <td>White</td>\n",
       "      <td>Male</td>\n",
       "      <td>0.0</td>\n",
       "      <td>0.0</td>\n",
       "      <td>55.0</td>\n",
       "      <td>United-States</td>\n",
       "      <td>&lt;=50K</td>\n",
       "    </tr>\n",
       "  </tbody>\n",
       "</table>\n",
       "</div>"
      ],
      "text/plain": [
       "    age workclass     education  education-num      marital-status  \\\n",
       "0  35.0   Private       Masters           14.0  Married-civ-spouse   \n",
       "1  21.0   Private  Some-college           10.0       Never-married   \n",
       "2  23.0   Private     Bachelors           13.0       Never-married   \n",
       "3  43.0   Private       Masters           14.0  Married-civ-spouse   \n",
       "4  31.0   Private     Bachelors           13.0  Married-civ-spouse   \n",
       "\n",
       "       occupation   relationship   race     sex  capital-gain  capital-loss  \\\n",
       "0  Prof-specialty        Husband  White    Male           0.0        1887.0   \n",
       "1   Other-service  Not-in-family  White  Female           0.0           0.0   \n",
       "2  Prof-specialty  Not-in-family  White  Female           0.0           0.0   \n",
       "3  Prof-specialty        Husband  White    Male           0.0           0.0   \n",
       "4           Sales        Husband  White    Male           0.0           0.0   \n",
       "\n",
       "   hours-per-week native-country Income  \n",
       "0            40.0  United-States   >50K  \n",
       "1            35.0  United-States  <=50K  \n",
       "2            16.0  United-States  <=50K  \n",
       "3            40.0  United-States   >50K  \n",
       "4            55.0  United-States  <=50K  "
      ]
     },
     "execution_count": 24,
     "metadata": {},
     "output_type": "execute_result"
    }
   ],
   "source": [
    "df.head()"
   ]
  },
  {
   "cell_type": "code",
   "execution_count": 28,
   "id": "dcbc4667-63f3-44a4-ba5a-aed3d7c2dad2",
   "metadata": {},
   "outputs": [],
   "source": [
    "with open(\"../Info/adult25.json\", \"r\") as f:\n",
    "    data_info = json.load(f)"
   ]
  },
  {
   "cell_type": "code",
   "execution_count": 30,
   "id": "c1d2bbef-abb9-4e8d-a3bc-3a67be3aa36d",
   "metadata": {},
   "outputs": [
    {
     "data": {
      "text/plain": [
       "{'name': 'adult25',\n",
       " 'task_type': 'binclass',\n",
       " 'header': 'infer',\n",
       " 'column_names': [],\n",
       " 'num_col_idx': [0, 3, 9, 10, 11],\n",
       " 'cat_col_idx': [1, 2, 4, 5, 6, 7, 8, 12],\n",
       " 'target_col_idx': [13],\n",
       " 'file_type': 'csv',\n",
       " 'data_path': 'data/adult25/df25.csv',\n",
       " 'test_path': 'data/adult25/df25_test.csv',\n",
       " 'column_info': {'age': 'float',\n",
       "  'workclass': 'str',\n",
       "  'education': 'str',\n",
       "  'education-num': 'float',\n",
       "  'marital-status': 'str',\n",
       "  'occupation': 'str',\n",
       "  'relationship': 'str',\n",
       "  'race': 'str',\n",
       "  'sex': 'str',\n",
       "  'capital-gain': 'float',\n",
       "  'capital-loss': 'float',\n",
       "  'hours-per-week': 'float',\n",
       "  'native-country': 'str',\n",
       "  'Income': 'str'}}"
      ]
     },
     "execution_count": 30,
     "metadata": {},
     "output_type": "execute_result"
    }
   ],
   "source": [
    "data_info"
   ]
  },
  {
   "cell_type": "code",
   "execution_count": 32,
   "id": "e3ae9263-625a-4374-9888-437ad119254a",
   "metadata": {},
   "outputs": [],
   "source": [
    "cols = list(df.columns)\n",
    "num_cols = [cols[i] for i in data_info[\"num_col_idx\"]]"
   ]
  },
  {
   "cell_type": "code",
   "execution_count": 33,
   "id": "c8c49ed7-10b5-4cfe-855b-e063fb18120b",
   "metadata": {},
   "outputs": [
    {
     "data": {
      "text/plain": [
       "['age', 'education-num', 'capital-gain', 'capital-loss', 'hours-per-week']"
      ]
     },
     "execution_count": 33,
     "metadata": {},
     "output_type": "execute_result"
    }
   ],
   "source": [
    "num_cols"
   ]
  },
  {
   "cell_type": "code",
   "execution_count": 34,
   "id": "e198f6f0-1699-4c44-8d17-fdbecb6b14c0",
   "metadata": {},
   "outputs": [
    {
     "data": {
      "text/plain": [
       "['workclass',\n",
       " 'education',\n",
       " 'marital-status',\n",
       " 'occupation',\n",
       " 'relationship',\n",
       " 'race',\n",
       " 'sex',\n",
       " 'native-country']"
      ]
     },
     "execution_count": 34,
     "metadata": {},
     "output_type": "execute_result"
    }
   ],
   "source": [
    "cat_cols = num_cols = [cols[i] for i in data_info[\"cat_col_idx\"]]\n",
    "cat_cols"
   ]
  },
  {
   "cell_type": "code",
   "execution_count": 35,
   "id": "03de2baa-4c05-4040-9bc5-9bdd448a2497",
   "metadata": {},
   "outputs": [
    {
     "data": {
      "text/plain": [
       "'Income'"
      ]
     },
     "execution_count": 35,
     "metadata": {},
     "output_type": "execute_result"
    }
   ],
   "source": [
    "cols[13]"
   ]
  },
  {
   "cell_type": "code",
   "execution_count": 36,
   "id": "7342b3a2-2900-4896-b445-e761cef6d294",
   "metadata": {},
   "outputs": [
    {
     "data": {
      "text/plain": [
       "['age',\n",
       " 'workclass',\n",
       " 'education',\n",
       " 'education-num',\n",
       " 'marital-status',\n",
       " 'occupation',\n",
       " 'relationship',\n",
       " 'race',\n",
       " 'sex',\n",
       " 'capital-gain',\n",
       " 'capital-loss',\n",
       " 'hours-per-week',\n",
       " 'native-country',\n",
       " 'Income']"
      ]
     },
     "execution_count": 36,
     "metadata": {},
     "output_type": "execute_result"
    }
   ],
   "source": [
    "cols"
   ]
  },
  {
   "cell_type": "code",
   "execution_count": 2,
   "id": "1187ee05-b318-4c4d-b3bf-4c667881cec4",
   "metadata": {},
   "outputs": [],
   "source": [
    "import os\n",
    "import sys\n",
    "parent_dir = os.path.abspath('../..')\n",
    "sys.path.append(parent_dir)\n"
   ]
  },
  {
   "cell_type": "code",
   "execution_count": 3,
   "id": "ff10582b-e928-47f6-9226-371eab429e29",
   "metadata": {},
   "outputs": [],
   "source": [
    "import numpy as np\n",
    "import torch\n",
    "import torch.nn as nn\n",
    "\n",
    "from torch.utils.data import DataLoader\n",
    "from torch.optim.lr_scheduler import ReduceLROnPlateau\n",
    "import argparse\n",
    "import warnings\n",
    "\n",
    "import os\n",
    "from tqdm import tqdm\n",
    "import json\n",
    "import time\n",
    "\n",
    "from tabsyn.vae.model import Model_VAE, Encoder_model, Decoder_model\n",
    "from utils_train import preprocess, TabularDataset"
   ]
  },
  {
   "cell_type": "code",
   "execution_count": null,
   "id": "f49fb78d-2e71-47d0-8c31-205e9041482b",
   "metadata": {},
   "outputs": [],
   "source": [
    "data_name = \"adult25\""
   ]
  }
 ],
 "metadata": {
  "kernelspec": {
   "display_name": "Python 3.10",
   "language": "python",
   "name": "py3.10"
  },
  "language_info": {
   "codemirror_mode": {
    "name": "ipython",
    "version": 3
   },
   "file_extension": ".py",
   "mimetype": "text/x-python",
   "name": "python",
   "nbconvert_exporter": "python",
   "pygments_lexer": "ipython3",
   "version": "3.10.14"
  }
 },
 "nbformat": 4,
 "nbformat_minor": 5
}
